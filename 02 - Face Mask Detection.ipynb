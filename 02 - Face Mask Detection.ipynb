{
 "cells": [
  {
   "attachments": {},
   "cell_type": "markdown",
   "metadata": {},
   "source": [
    "# Detecting Faces with and without masks using OpenCV"
   ]
  },
  {
   "cell_type": "code",
   "execution_count": 1,
   "metadata": {},
   "outputs": [],
   "source": [
    "# pip install tensorflow==2.0"
   ]
  },
  {
   "cell_type": "markdown",
   "metadata": {},
   "source": [
    "### Import essential libraries"
   ]
  },
  {
   "cell_type": "code",
   "execution_count": 2,
   "metadata": {},
   "outputs": [],
   "source": [
    "from tensorflow.keras.models import load_model\n",
    "import cv2\n",
    "import numpy as np"
   ]
  },
  {
   "cell_type": "markdown",
   "metadata": {},
   "source": [
    "### Load the previously trained model and haarcascades"
   ]
  },
  {
   "cell_type": "code",
   "execution_count": 3,
   "metadata": {},
   "outputs": [],
   "source": [
    "#path of the trained model\n",
    "model_path = './model1.h5'#replace with your path\n",
    "#Loading the model\n",
    "model = load_model(model_path)\n",
    "#Loading haarcascade to detect the faces\n",
    "face_clsfr=cv2.CascadeClassifier('haarcascade_frontalface_default.xml')\n",
    "\n",
    "#some initializations\n",
    "labels_dict={0:'NO MASK',1:'MASK'}\n",
    "color_dict={0:(0,0,255),1:(0,255,0)}"
   ]
  },
  {
   "cell_type": "code",
   "execution_count": 4,
   "metadata": {},
   "outputs": [],
   "source": [
    "#set the image size\n",
    "IMG_SIZE = 100"
   ]
  },
  {
   "cell_type": "code",
   "execution_count": null,
   "metadata": {},
   "outputs": [],
   "source": [
    "#setting the source as webcam\n",
    "cap=cv2.VideoCapture(0)\n",
    "while(True):\n",
    "    #reading the image frames\n",
    "    ret,img=cap.read()\n",
    "    #converting to grayscale images\n",
    "    gray=cv2.cvtColor(img,cv2.COLOR_BGR2GRAY)\n",
    "    #multiple faces\n",
    "    faces=face_clsfr.detectMultiScale(gray,1.3,5)  \n",
    "    \n",
    "    for (x,y,w,h) in faces:\n",
    "        #region of interest\n",
    "        face_img=gray[y:y+w,x:x+w]\n",
    "        #resize the image to specified dimension\n",
    "        resized=cv2.resize(face_img,(IMG_SIZE,IMG_SIZE))\n",
    "        #normalize\n",
    "        normalized=resized/255.0\n",
    "        #converting into a batch of 1 image\n",
    "        reshaped=np.reshape(normalized,(1,IMG_SIZE,IMG_SIZE,1))\n",
    "        #model prediction\n",
    "        result=model.predict(reshaped)\n",
    "        #getting the label\n",
    "        label = int(np.round(result[0][0]))\n",
    "        #drawing the rectangle around the faces\n",
    "        cv2.rectangle(img,(x,y),(x+w,y+h),color_dict[label],2)\n",
    "        #drawing one more rectangle for giving title\n",
    "        cv2.rectangle(img,(x,y-40),(x+w,y),color_dict[label],-1)\n",
    "        #mask or no mask text\n",
    "        cv2.putText(img, labels_dict[label], (x, y-10),cv2.FONT_HERSHEY_SIMPLEX,0.8,(255,255,255),2)\n",
    "\n",
    "    cv2.imshow('LIVE',img)\n",
    "    key=cv2.waitKey(1)\n",
    "    \n",
    "    #break if escape key is pressed\n",
    "    if(key==27):\n",
    "        break\n",
    "#destroy all the windows\n",
    "cv2.destroyAllWindows()\n",
    "cap.release()"
   ]
  }
 ],
 "metadata": {
  "kernelspec": {
   "display_name": "Python 3",
   "language": "python",
   "name": "python3"
  },
  "language_info": {
   "codemirror_mode": {
    "name": "ipython",
    "version": 3
   },
   "file_extension": ".py",
   "mimetype": "text/x-python",
   "name": "python",
   "nbconvert_exporter": "python",
   "pygments_lexer": "ipython3",
   "version": "3.7.6"
  }
 },
 "nbformat": 4,
 "nbformat_minor": 2
}
